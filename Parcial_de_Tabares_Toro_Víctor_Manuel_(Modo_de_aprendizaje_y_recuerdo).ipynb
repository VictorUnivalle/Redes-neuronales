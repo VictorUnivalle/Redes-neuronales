{
  "nbformat": 4,
  "nbformat_minor": 0,
  "metadata": {
    "colab": {
      "provenance": [],
      "gpuType": "T4",
      "authorship_tag": "ABX9TyM0DB1m8kNBIdt0d2EIuajj",
      "include_colab_link": true
    },
    "kernelspec": {
      "name": "python3",
      "display_name": "Python 3"
    },
    "language_info": {
      "name": "python"
    },
    "accelerator": "GPU"
  },
  "cells": [
    {
      "cell_type": "markdown",
      "metadata": {
        "id": "view-in-github",
        "colab_type": "text"
      },
      "source": [
        "<a href=\"https://colab.research.google.com/github/VictorUnivalle/Redes-neuronales/blob/main/Parcial_de_Tabares_Toro_V%C3%ADctor_Manuel_(Modo_de_aprendizaje_y_recuerdo).ipynb\" target=\"_parent\"><img src=\"https://colab.research.google.com/assets/colab-badge.svg\" alt=\"Open In Colab\"/></a>"
      ]
    },
    {
      "cell_type": "markdown",
      "source": [
        "EJERCICIO 1\n"
      ],
      "metadata": {
        "id": "HzjcteNpOyFg"
      }
    },
    {
      "cell_type": "code",
      "execution_count": null,
      "metadata": {
        "colab": {
          "base_uri": "https://localhost:8080/"
        },
        "id": "J2eKQq5pNmjj",
        "outputId": "1ccc827d-08c7-4f38-a838-9ec1fe3b68c5"
      },
      "outputs": [
        {
          "output_type": "stream",
          "name": "stdout",
          "text": [
            "Modo de Aprendizaje: Entrenando la red neuronal...\n",
            "Epoch 1/5\n",
            "\u001b[1m1875/1875\u001b[0m \u001b[32m━━━━━━━━━━━━━━━━━━━━\u001b[0m\u001b[37m\u001b[0m \u001b[1m8s\u001b[0m 3ms/step - accuracy: 0.8810 - loss: 0.4214 - val_accuracy: 0.9552 - val_loss: 0.1569\n",
            "Epoch 2/5\n",
            "\u001b[1m1875/1875\u001b[0m \u001b[32m━━━━━━━━━━━━━━━━━━━━\u001b[0m\u001b[37m\u001b[0m \u001b[1m5s\u001b[0m 3ms/step - accuracy: 0.9630 - loss: 0.1255 - val_accuracy: 0.9689 - val_loss: 0.1017\n",
            "Epoch 3/5\n",
            "\u001b[1m1875/1875\u001b[0m \u001b[32m━━━━━━━━━━━━━━━━━━━━\u001b[0m\u001b[37m\u001b[0m \u001b[1m6s\u001b[0m 3ms/step - accuracy: 0.9757 - loss: 0.0817 - val_accuracy: 0.9737 - val_loss: 0.0857\n",
            "Epoch 4/5\n",
            "\u001b[1m1875/1875\u001b[0m \u001b[32m━━━━━━━━━━━━━━━━━━━━\u001b[0m\u001b[37m\u001b[0m \u001b[1m9s\u001b[0m 2ms/step - accuracy: 0.9818 - loss: 0.0589 - val_accuracy: 0.9739 - val_loss: 0.0857\n",
            "Epoch 5/5\n",
            "\u001b[1m1875/1875\u001b[0m \u001b[32m━━━━━━━━━━━━━━━━━━━━\u001b[0m\u001b[37m\u001b[0m \u001b[1m6s\u001b[0m 3ms/step - accuracy: 0.9857 - loss: 0.0456 - val_accuracy: 0.9785 - val_loss: 0.0738\n"
          ]
        },
        {
          "output_type": "execute_result",
          "data": {
            "text/plain": [
              "<keras.src.callbacks.history.History at 0x7b273a8ebd90>"
            ]
          },
          "metadata": {},
          "execution_count": 2
        }
      ],
      "source": [
        "import tensorflow as tf\n",
        "from tensorflow import keras\n",
        "#tensorflow Construye y entrena redes neuronales\n",
        "\n",
        "# Cargar el dataset MNIST\n",
        "(x_train, y_train), (x_test, y_test) = keras.datasets.mnist.load_data()\n",
        "#x_train--> representa la imagenes de entrenamiento.\n",
        "#y_train --> texto que describe que es o hace la img (etiquetas).\n",
        "#datasets\n",
        "\n",
        "\n",
        "# Normalizar los datos (escala de 0 a 1)\n",
        "\n",
        "x_train, x_test = x_train / 255.0, x_test / 255.0\n",
        "#Convierte el vector de 784 valores\n",
        "#Convierte 0 y 1 para procesarlos\n",
        "# Definir la red neuronal\n",
        "\n",
        "\n",
        "model=keras.Sequential([\n",
        "    keras.layers.Flatten(input_shape=(28,28)), # Capa de entrada --> convierte las img en un vector\n",
        "    keras.layers.Dense(128, activation='relu'), # Capa oculta Con 128 neuronas\n",
        "    keras.layers.Dense(10, activation='softmax') # Capa de salida(10 clases) Activación  y con 10 clases que son 10 posiciones\n",
        "])\n",
        "\n",
        "\n",
        "model.compile(optimizer='adam', #adam optimiza los pesos para evitar perdidas en esta op\n",
        "loss='sparse_categorical_crossentropy', #Para clasificacion por ej, si da un 0 mal hecho y bien hecho que clasifique cual es el malo y cual es el bueno\n",
        "metrics=['accuracy']) #Si el modelo da buen porcentaje  sale 'accuracy\n",
        "\n",
        "#Entrenar la red neuronal\n",
        "print(\"Modo de Aprendizaje: Entrenando la red neuronal...\")\n",
        "model.fit(x_train,y_train, epochs=5,validation_data=(x_test, y_test))"
      ]
    },
    {
      "cell_type": "markdown",
      "source": [
        "CAMBIO 1"
      ],
      "metadata": {
        "id": "Wg7V0iU6Ul-z"
      }
    },
    {
      "cell_type": "code",
      "source": [
        "import tensorflow as tf\n",
        "from tensorflow import keras\n",
        "#tensorflow Construye y entrena redes neuronales\n",
        "\n",
        "# Cargar el dataset MNIST\n",
        "(x_train, y_train), (x_test, y_test) = keras.datasets.mnist.load_data()\n",
        "#x_train--> representa la imagenes de entrenamiento.\n",
        "#y_train --> texto que describe que es o hace la img (etiquetas).\n",
        "#datasets\n",
        "\n",
        "\n",
        "# Normalizar los datos (escala de 0 a 1)\n",
        "\n",
        "x_train, x_test = x_train / 255.0, x_test / 255.0\n",
        "#Convierte el vector de 784 valores\n",
        "#Convierte 0 y 1 para procesarlos\n",
        "# Definir la red neuronal\n",
        "\n",
        "\n",
        "model=keras.Sequential([\n",
        "    keras.layers.Flatten(input_shape=(28,28)), # Capa de entrada --> convierte las img en un vector\n",
        "    keras.layers.Dense(128, activation='relu'), # Capa oculta Con 128 neuronas\n",
        "    keras.layers.Dense(10, activation='softmax') # Capa de salida(10 clases) Activación  y con 10 clases que son 10 posiciones\n",
        "])\n",
        "\n",
        "\n",
        "model.compile(optimizer='adam', #adam optimiza los pesos para evitar perdidas en esta op\n",
        "loss='sparse_categorical_crossentropy', #Para clasificacion por ej, si da un 0 mal hecho y bien hecho que clasifique cual es el malo y cual es el bueno\n",
        "metrics=['accuracy']) #Si el modelo da buen porcentaje  sale 'accuracy\n",
        "\n",
        "#Entrenar el modelo\n",
        "model.fit(x_train, y_train, epochs=3)\n",
        "\n",
        "#Evaluar modelo\n",
        "test_loss, test_acc= model.evaluate(x_test,  y_test)\n",
        "print(f'Precisión en el conjunto de prueba: {test_acc:.4f}')"
      ],
      "metadata": {
        "colab": {
          "base_uri": "https://localhost:8080/"
        },
        "id": "NFxpMs5_Uqzs",
        "outputId": "4f8ea671-e39a-4847-eaaf-5ce97f642cc4"
      },
      "execution_count": null,
      "outputs": [
        {
          "output_type": "stream",
          "name": "stdout",
          "text": [
            "Epoch 1/3\n",
            "\u001b[1m1875/1875\u001b[0m \u001b[32m━━━━━━━━━━━━━━━━━━━━\u001b[0m\u001b[37m\u001b[0m \u001b[1m5s\u001b[0m 2ms/step - accuracy: 0.8786 - loss: 0.4276\n",
            "Epoch 2/3\n",
            "\u001b[1m1875/1875\u001b[0m \u001b[32m━━━━━━━━━━━━━━━━━━━━\u001b[0m\u001b[37m\u001b[0m \u001b[1m5s\u001b[0m 2ms/step - accuracy: 0.9663 - loss: 0.1165\n",
            "Epoch 3/3\n",
            "\u001b[1m1875/1875\u001b[0m \u001b[32m━━━━━━━━━━━━━━━━━━━━\u001b[0m\u001b[37m\u001b[0m \u001b[1m5s\u001b[0m 2ms/step - accuracy: 0.9774 - loss: 0.0769\n",
            "\u001b[1m313/313\u001b[0m \u001b[32m━━━━━━━━━━━━━━━━━━━━\u001b[0m\u001b[37m\u001b[0m \u001b[1m1s\u001b[0m 3ms/step - accuracy: 0.9719 - loss: 0.0943\n",
            "Precisión en el conjunto de prueba: 0.9758\n"
          ]
        }
      ]
    },
    {
      "cell_type": "markdown",
      "source": [
        "CAMBIO 2"
      ],
      "metadata": {
        "id": "8x8K9eHFXF2y"
      }
    },
    {
      "cell_type": "code",
      "source": [
        "import tensorflow as tf\n",
        "from tensorflow.keras import layers, models\n",
        "import matplotlib.pyplot as plt\n",
        "#tensorflow Construye y entrena redes neuronales\n",
        "\n",
        "# Cargar el dataset MNIST\n",
        "(x_train, y_train), (x_test, y_test) = tf.keras.datasets.mnist.load_data()\n",
        "#x_train--> representa la imagenes de entrenamiento.\n",
        "#y_train --> texto que describe que es o hace la img (etiquetas).\n",
        "#datasets\n",
        "\n",
        "\n",
        "# Normalizar los datos (escala de 0 a 1)\n",
        "\n",
        "x_train = x_train / 255.0\n",
        "x_test =  x_test / 255.0\n",
        "#Convierte el vector de 784 valores\n",
        "#Convierte 0 y 1 para procesarlos\n",
        "# Definir la red neuronal\n",
        "\n",
        "\n",
        "#Mostrar algunas imagenes de ej\n",
        "\n",
        "plt.figure(figsize=(10,5))#Tamaño de la fig\n",
        "for i in range(10):#Mostrar 10 img\n",
        "    plt.subplot(2, 5, i+1)#2 filas 5 columnas\n",
        "    plt.imshow(x_train[i], cmap='gray')#Mostrar la img a escala de grises\n",
        "    plt.title(f'Dígito: {y_train[i]}')#Titulo con la etiqueta real\n",
        "    plt.axis('off')#Quitar ejes\n",
        "plt.show()#Mostrar todas las img\n",
        "\n",
        "\n",
        "model=models.Sequential([\n",
        "    layers.Flatten(input_shape=(28,28)), # Aplanar img que queden en 1 solo vector\n",
        "    layers.Dense(128, activation='relu'), # Capa densa con 128 neuronas\n",
        "    layers.Dense(10, activation='softmax') # Capa de salida(10 clases) Activación  y con 10 clases que son 10 posiciones\n",
        "])\n",
        "\n",
        "#Compilar el modelo\n",
        "model.compile(optimizer='adam', #adam optimiza los pesos para evitar perdidas en esta op\n",
        "loss='sparse_categorical_crossentropy', #Para clasificacion por ej, si da un 0 mal hecho y bien hecho que clasifique cual es el malo y cual es el bueno\n",
        "metrics=['accuracy']) #Si el modelo da buen porcentaje  sale 'accuracy\n",
        "\n",
        "#Entrenar el modelo\n",
        "model.fit(x_train, y_train, epochs=3)\n",
        "\n",
        "#Evaluar modelo\n",
        "test_loss, test_acc= model.evaluate(x_test,  y_test)\n",
        "print(f'Precisión en el conjunto de prueba: {test_acc:.4f}')"
      ],
      "metadata": {
        "id": "LZzCoYL9XHpO",
        "colab": {
          "base_uri": "https://localhost:8080/",
          "height": 597
        },
        "outputId": "db74c7fd-d370-481a-cd5e-dd00b3b0ecf3"
      },
      "execution_count": null,
      "outputs": [
        {
          "output_type": "display_data",
          "data": {
            "text/plain": [
              "<Figure size 1000x500 with 10 Axes>"
            ],
            "image/png": "[encoded data removed]"
          },
          "metadata": {}
        },
        {
          "output_type": "stream",
          "name": "stderr",
          "text": [
            "/usr/local/lib/python3.11/dist-packages/keras/src/layers/reshaping/flatten.py:37: UserWarning: Do not pass an `input_shape`/`input_dim` argument to a layer. When using Sequential models, prefer using an `Input(shape)` object as the first layer in the model instead.\n",
            "  super().__init__(**kwargs)\n"
          ]
        },
        {
          "output_type": "stream",
          "name": "stdout",
          "text": [
            "Epoch 1/3\n",
            "\u001b[1m1875/1875\u001b[0m \u001b[32m━━━━━━━━━━━━━━━━━━━━\u001b[0m\u001b[37m\u001b[0m \u001b[1m6s\u001b[0m 2ms/step - accuracy: 0.8803 - loss: 0.4251\n",
            "Epoch 2/3\n",
            "\u001b[1m1875/1875\u001b[0m \u001b[32m━━━━━━━━━━━━━━━━━━━━\u001b[0m\u001b[37m\u001b[0m \u001b[1m9s\u001b[0m 2ms/step - accuracy: 0.9638 - loss: 0.1223\n",
            "Epoch 3/3\n",
            "\u001b[1m1875/1875\u001b[0m \u001b[32m━━━━━━━━━━━━━━━━━━━━\u001b[0m\u001b[37m\u001b[0m \u001b[1m5s\u001b[0m 2ms/step - accuracy: 0.9764 - loss: 0.0797\n",
            "\u001b[1m313/313\u001b[0m \u001b[32m━━━━━━━━━━━━━━━━━━━━\u001b[0m\u001b[37m\u001b[0m \u001b[1m2s\u001b[0m 4ms/step - accuracy: 0.9681 - loss: 0.1014\n",
            "Precisión en el conjunto de prueba: 0.9725\n"
          ]
        }
      ]
    },
    {
      "cell_type": "markdown",
      "source": [
        "**EJERCICIO 2**\n",
        " Modo recurdo"
      ],
      "metadata": {
        "id": "HT8yRms4jeKN"
      }
    },
    {
      "cell_type": "code",
      "source": [
        "import tensorflow as tf\n",
        "from tensorflow.keras import layers, models\n",
        "import matplotlib.pyplot as plt\n",
        "#tensorflow Construye y entrena redes neuronales\n",
        "\n",
        "# Cargar el dataset MNIST\n",
        "(x_train, y_train), (x_test, y_test) = tf.keras.datasets.mnist.load_data()\n",
        "\n",
        "\n",
        "\n",
        "# Normalizar los datos (escala de 0 a 1)\n",
        "\n",
        "x_train = x_train / 255.0\n",
        "x_test =  x_test / 255.0\n",
        "\n",
        "\n",
        "#Mostrar algunas imagenes de ej\n",
        "\n",
        "plt.figure(figsize=(10,5))#Tamaño de la fig\n",
        "for i in range(10):#Mostrar 10 img\n",
        "    plt.subplot(2, 5, i+1)#2 filas 5 columnas\n",
        "    plt.imshow(x_train[i], cmap='gray')#Mostrar la img a escala de grises\n",
        "    plt.title(f'Dígito: {y_train[i]}')#Titulo con la etiqueta real\n",
        "    plt.axis('off')#Quitar ejes\n",
        "plt.show()#Mostrar todas las img\n",
        "\n",
        "#Crear el mopdelo con memoria LSTM\n",
        "model=models.Sequential([\n",
        "    layers.Input(shape=(28,28)), # 28 pasos de tiempo (filas), 28 caracteristicas\n",
        "    layers.LSTM(128, return_sequences=False),\n",
        "    layers.Dense(10, activation='softmax') # Capa de salida(10 clases) Activación  y con 10 clases que son 10 posiciones\n",
        "])\n",
        "\n",
        "#Compilar el modelo\n",
        "model.compile(optimizer='adam', #adam optimiza los pesos para evitar perdidas en esta op\n",
        "loss='sparse_categorical_crossentropy', #Para clasificacion por ej, si da un 0 mal hecho y bien hecho que clasifique cual es el malo y cual es el bueno\n",
        "metrics=['accuracy']) #Si el modelo da buen porcentaje  sale 'accuracy\n",
        "\n",
        "\n",
        "#Resumen del modelo\n",
        "model.summary()\n",
        "#Entrenar el modelo\n",
        "model.fit(x_train, y_train, epochs=3)\n",
        "\n",
        "#Evaluar modelo\n",
        "test_loss, test_acc= model.evaluate(x_test,  y_test)\n",
        "print(f'Precisión en el conjunto de prueba: {test_acc:.4f}')"
      ],
      "metadata": {
        "colab": {
          "base_uri": "https://localhost:8080/",
          "height": 729
        },
        "id": "su-ipKb_jomd",
        "outputId": "e8eddd4f-40bb-41cd-a461-a93a1dc524df"
      },
      "execution_count": null,
      "outputs": [
        {
          "output_type": "display_data",
          "data": {
            "text/plain": [
              "<Figure size 1000x500 with 10 Axes>"
            ],
            "image/png": "[encoded data removed]"
          },
          "metadata": {}
        },
        {
          "output_type": "display_data",
          "data": {
            "text/plain": [
              "\u001b[1mModel: \"sequential_1\"\u001b[0m\n"
            ],
            "text/html": [
              "<pre style=\"white-space:pre;overflow-x:auto;line-height:normal;font-family:Menlo,'DejaVu Sans Mono',consolas,'Courier New',monospace\"><span style=\"font-weight: bold\">Model: \"sequential_1\"</span>\n",
              "</pre>\n"
            ]
          },
          "metadata": {}
        },
        {
          "output_type": "display_data",
          "data": {
            "text/plain": [
              "┏━━━━━━━━━━━━━━━━━━━━━━━━━━━━━━━━━━━━━━┳━━━━━━━━━━━━━━━━━━━━━━━━━━━━━┳━━━━━━━━━━━━━━━━━┓\n",
              "┃\u001b[1m \u001b[0m\u001b[1mLayer (type)                        \u001b[0m\u001b[1m \u001b[0m┃\u001b[1m \u001b[0m\u001b[1mOutput Shape               \u001b[0m\u001b[1m \u001b[0m┃\u001b[1m \u001b[0m\u001b[1m        Param #\u001b[0m\u001b[1m \u001b[0m┃\n",
              "┡━━━━━━━━━━━━━━━━━━━━━━━━━━━━━━━━━━━━━━╇━━━━━━━━━━━━━━━━━━━━━━━━━━━━━╇━━━━━━━━━━━━━━━━━┩\n",
              "│ lstm (\u001b[38;5;33mLSTM\u001b[0m)                          │ (\u001b[38;5;45mNone\u001b[0m, \u001b[38;5;34m128\u001b[0m)                 │          \u001b[38;5;34m80,384\u001b[0m │\n",
              "├──────────────────────────────────────┼─────────────────────────────┼─────────────────┤\n",
              "│ dense_2 (\u001b[38;5;33mDense\u001b[0m)                      │ (\u001b[38;5;45mNone\u001b[0m, \u001b[38;5;34m10\u001b[0m)                  │           \u001b[38;5;34m1,290\u001b[0m │\n",
              "└──────────────────────────────────────┴─────────────────────────────┴─────────────────┘\n"
            ],
            "text/html": [
              "<pre style=\"white-space:pre;overflow-x:auto;line-height:normal;font-family:Menlo,'DejaVu Sans Mono',consolas,'Courier New',monospace\">┏━━━━━━━━━━━━━━━━━━━━━━━━━━━━━━━━━━━━━━┳━━━━━━━━━━━━━━━━━━━━━━━━━━━━━┳━━━━━━━━━━━━━━━━━┓\n",
              "┃<span style=\"font-weight: bold\"> Layer (type)                         </span>┃<span style=\"font-weight: bold\"> Output Shape                </span>┃<span style=\"font-weight: bold\">         Param # </span>┃\n",
              "┡━━━━━━━━━━━━━━━━━━━━━━━━━━━━━━━━━━━━━━╇━━━━━━━━━━━━━━━━━━━━━━━━━━━━━╇━━━━━━━━━━━━━━━━━┩\n",
              "│ lstm (<span style=\"color: #0087ff; text-decoration-color: #0087ff\">LSTM</span>)                          │ (<span style=\"color: #00d7ff; text-decoration-color: #00d7ff\">None</span>, <span style=\"color: #00af00; text-decoration-color: #00af00\">128</span>)                 │          <span style=\"color: #00af00; text-decoration-color: #00af00\">80,384</span> │\n",
              "├──────────────────────────────────────┼─────────────────────────────┼─────────────────┤\n",
              "│ dense_2 (<span style=\"color: #0087ff; text-decoration-color: #0087ff\">Dense</span>)                      │ (<span style=\"color: #00d7ff; text-decoration-color: #00d7ff\">None</span>, <span style=\"color: #00af00; text-decoration-color: #00af00\">10</span>)                  │           <span style=\"color: #00af00; text-decoration-color: #00af00\">1,290</span> │\n",
              "└──────────────────────────────────────┴─────────────────────────────┴─────────────────┘\n",
              "</pre>\n"
            ]
          },
          "metadata": {}
        },
        {
          "output_type": "display_data",
          "data": {
            "text/plain": [
              "\u001b[1m Total params: \u001b[0m\u001b[38;5;34m81,674\u001b[0m (319.04 KB)\n"
            ],
            "text/html": [
              "<pre style=\"white-space:pre;overflow-x:auto;line-height:normal;font-family:Menlo,'DejaVu Sans Mono',consolas,'Courier New',monospace\"><span style=\"font-weight: bold\"> Total params: </span><span style=\"color: #00af00; text-decoration-color: #00af00\">81,674</span> (319.04 KB)\n",
              "</pre>\n"
            ]
          },
          "metadata": {}
        },
        {
          "output_type": "display_data",
          "data": {
            "text/plain": [
              "\u001b[1m Trainable params: \u001b[0m\u001b[38;5;34m81,674\u001b[0m (319.04 KB)\n"
            ],
            "text/html": [
              "<pre style=\"white-space:pre;overflow-x:auto;line-height:normal;font-family:Menlo,'DejaVu Sans Mono',consolas,'Courier New',monospace\"><span style=\"font-weight: bold\"> Trainable params: </span><span style=\"color: #00af00; text-decoration-color: #00af00\">81,674</span> (319.04 KB)\n",
              "</pre>\n"
            ]
          },
          "metadata": {}
        },
        {
          "output_type": "display_data",
          "data": {
            "text/plain": [
              "\u001b[1m Non-trainable params: \u001b[0m\u001b[38;5;34m0\u001b[0m (0.00 B)\n"
            ],
            "text/html": [
              "<pre style=\"white-space:pre;overflow-x:auto;line-height:normal;font-family:Menlo,'DejaVu Sans Mono',consolas,'Courier New',monospace\"><span style=\"font-weight: bold\"> Non-trainable params: </span><span style=\"color: #00af00; text-decoration-color: #00af00\">0</span> (0.00 B)\n",
              "</pre>\n"
            ]
          },
          "metadata": {}
        },
        {
          "output_type": "stream",
          "name": "stdout",
          "text": [
            "Epoch 1/3\n",
            "\u001b[1m1875/1875\u001b[0m \u001b[32m━━━━━━━━━━━━━━━━━━━━\u001b[0m\u001b[37m\u001b[0m \u001b[1m11s\u001b[0m 5ms/step - accuracy: 0.7902 - loss: 0.6359\n",
            "Epoch 2/3\n",
            "\u001b[1m1875/1875\u001b[0m \u001b[32m━━━━━━━━━━━━━━━━━━━━\u001b[0m\u001b[37m\u001b[0m \u001b[1m9s\u001b[0m 4ms/step - accuracy: 0.9649 - loss: 0.1157\n",
            "Epoch 3/3\n",
            "\u001b[1m1875/1875\u001b[0m \u001b[32m━━━━━━━━━━━━━━━━━━━━\u001b[0m\u001b[37m\u001b[0m \u001b[1m10s\u001b[0m 4ms/step - accuracy: 0.9776 - loss: 0.0741\n",
            "\u001b[1m313/313\u001b[0m \u001b[32m━━━━━━━━━━━━━━━━━━━━\u001b[0m\u001b[37m\u001b[0m \u001b[1m2s\u001b[0m 4ms/step - accuracy: 0.9774 - loss: 0.0790\n",
            "Precisión en el conjunto de prueba: 0.9803\n"
          ]
        }
      ]
    },
    {
      "cell_type": "markdown",
      "source": [
        "ejercicio 3"
      ],
      "metadata": {
        "id": "E8eLPMlRPF0w"
      }
    },
    {
      "cell_type": "code",
      "source": [
        "import tensorflow as tf\n",
        "from tensorflow.keras import layers, models\n",
        "import matplotlib.pyplot as plt\n",
        "import numpy as np\n",
        "\n",
        "# Cargar y preparar los datos de MNIST\n",
        "(x_train, y_train), (x_test, y_test) = tf.keras.datasets.mnist.load_data()\n",
        "\n",
        "# Normalizar los datos (valores entre 0 y 1)\n",
        "x_train = x_train / 255.0\n",
        "x_test = x_test / 255.0\n",
        "\n",
        "# Crear un modelo con memoria simple (SimpleRNN)\n",
        "model = models.Sequential([\n",
        "    layers.Input(shape=(28, 28)),  # 28 pasos de tiempo (filas), 28 características (píxeles por fila)\n",
        "    layers.SimpleRNN(64),  # Capa SimpleRNN con 64 unidades\n",
        "    layers.Dense(10, activation='softmax')  # Capa de salida con 10 clases\n",
        "])\n",
        "\n",
        "# Compilar el modelo\n",
        "model.compile(optimizer='adam',\n",
        "              loss='sparse_categorical_crossentropy',\n",
        "              metrics=['accuracy'])\n",
        "\n",
        "# Entrenar el modelo\n",
        "print(\"Entrenando el modelo...\")\n",
        "model.fit(x_train, y_train, epochs=3, verbose=1)\n",
        "\n",
        "# Evaluar el modelo en el conjunto de prueba\n",
        "test_loss, test_acc = model.evaluate(x_test, y_test, verbose=0)\n",
        "print(f\"\\nPrecisión en el conjunto de prueba: {test_acc:.4f}\")\n",
        "\n",
        "# Elegir el dígito específico que quieres predecir (0-9)\n",
        "digito_deseado = 6  # Cambia este número (0-9) para predecir el dígito que quieras\n",
        "\n",
        "# Buscar una imagen en x_test que sea el dígito deseado\n",
        "indice = None\n",
        "for i in range(len(x_test)):\n",
        "    if y_test[i] == digito_deseado:\n",
        "        indice = i\n",
        "        break\n",
        "\n",
        "if indice is not None:\n",
        "    # Seleccionar la imagen y su etiqueta real\n",
        "    imagen_prueba = x_test[indice]\n",
        "    etiqueta_real = y_test[indice]\n",
        "\n",
        "    # Mostrar la imagen seleccionada\n",
        "    plt.figure(figsize=(5, 5))\n",
        "    plt.imshow(imagen_prueba, cmap='gray')\n",
        "    plt.title(f'Imagen seleccionada - Etiqueta real: {etiqueta_real}')\n",
        "    plt.axis('off')\n",
        "    plt.show()\n",
        "\n",
        "    # Realizar la predicción\n",
        "    imagen_prueba_reshape = np.expand_dims(imagen_prueba, axis=0)\n",
        "    prediccion = model.predict(imagen_prueba_reshape, verbose=0)\n",
        "    digito_predicho = np.argmax(prediccion)\n",
        "\n",
        "    # Mostrar la predicción y probabilidades\n",
        "    print(f\"\\nPredicción del modelo: {digito_predicho}\")\n",
        "    print(\"Probabilidades para cada clase:\")\n",
        "    for i, prob in enumerate(prediccion[0]):\n",
        "        print(f\"Clase {i}: {prob:.4f}\")\n",
        "\n",
        "    # Comparar el resultado con la etiqueta real\n",
        "    print(f\"\\nEtiqueta real: {etiqueta_real}\")\n",
        "    if digito_predicho == etiqueta_real:\n",
        "        print(\"El modelo acertó en su predicción.\")\n",
        "    else:\n",
        "        print(\"El modelo no acertó en su predicción.\")\n",
        "\n",
        "    # Visualización final con predicción y real\n",
        "    plt.figure(figsize=(5, 5))\n",
        "    plt.imshow(imagen_prueba, cmap='gray')\n",
        "    plt.text(2, 2, f'Pred: {digito_predicho}', color='red', fontsize=12, weight='bold',\n",
        "             bbox=dict(facecolor='white', alpha=0.8))\n",
        "    plt.text(2, 25, f'Real: {etiqueta_real}', color='blue', fontsize=12, weight='bold',\n",
        "             bbox=dict(facecolor='white', alpha=0.8))\n",
        "    plt.axis('off')\n",
        "    plt.show()\n",
        "else:\n",
        "    print(f\"No se encontró ninguna imagen con el dígito {digito_deseado} en el conjunto de prueba.\")\n"
      ],
      "metadata": {
        "colab": {
          "base_uri": "https://localhost:8080/",
          "height": 1000
        },
        "id": "oIEWJcR1PI56",
        "outputId": "89943b31-e85c-4ee6-a9b2-481cea116e7f"
      },
      "execution_count": 3,
      "outputs": [
        {
          "output_type": "stream",
          "name": "stdout",
          "text": [
            "Entrenando el modelo...\n",
            "Epoch 1/3\n",
            "\u001b[1m1875/1875\u001b[0m \u001b[32m━━━━━━━━━━━━━━━━━━━━\u001b[0m\u001b[37m\u001b[0m \u001b[1m9s\u001b[0m 4ms/step - accuracy: 0.7180 - loss: 0.8772\n",
            "Epoch 2/3\n",
            "\u001b[1m1875/1875\u001b[0m \u001b[32m━━━━━━━━━━━━━━━━━━━━\u001b[0m\u001b[37m\u001b[0m \u001b[1m10s\u001b[0m 4ms/step - accuracy: 0.9128 - loss: 0.2948\n",
            "Epoch 3/3\n",
            "\u001b[1m1875/1875\u001b[0m \u001b[32m━━━━━━━━━━━━━━━━━━━━\u001b[0m\u001b[37m\u001b[0m \u001b[1m10s\u001b[0m 4ms/step - accuracy: 0.9310 - loss: 0.2331\n",
            "\n",
            "Precisión en el conjunto de prueba: 0.9379\n"
          ]
        },
        {
          "output_type": "display_data",
          "data": {
            "text/plain": [
              "<Figure size 500x500 with 1 Axes>"
            ],
            "image/png": "[encoded data removed]"
          },
          "metadata": {}
        },
        {
          "output_type": "stream",
          "name": "stdout",
          "text": [
            "\n",
            "Predicción del modelo: 6\n",
            "Probabilidades para cada clase:\n",
            "Clase 0: 0.0015\n",
            "Clase 1: 0.0002\n",
            "Clase 2: 0.0004\n",
            "Clase 3: 0.0009\n",
            "Clase 4: 0.0035\n",
            "Clase 5: 0.0308\n",
            "Clase 6: 0.9454\n",
            "Clase 7: 0.0000\n",
            "Clase 8: 0.0172\n",
            "Clase 9: 0.0001\n",
            "\n",
            "Etiqueta real: 6\n",
            "El modelo acertó en su predicción.\n"
          ]
        },
        {
          "output_type": "display_data",
          "data": {
            "text/plain": [
              "<Figure size 500x500 with 1 Axes>"
            ],
            "image/png": "[encoded data removed]"
          },
          "metadata": {}
        }
      ]
    }
  ]
}